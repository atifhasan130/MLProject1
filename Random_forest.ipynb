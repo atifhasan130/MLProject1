{
 "cells": [
  {
   "cell_type": "code",
   "execution_count": 16,
   "metadata": {},
   "outputs": [],
   "source": [
    "import pandas as pd\n",
    "import numpy as np\n",
    "import sklearn.model_selection as model_selection\n",
    "from sklearn.model_selection import train_test_split\n",
    "from sklearn.preprocessing import StandardScaler"
   ]
  },
  {
   "cell_type": "code",
   "execution_count": 17,
   "metadata": {},
   "outputs": [
    {
     "data": {
      "text/html": [
       "<div>\n",
       "<style scoped>\n",
       "    .dataframe tbody tr th:only-of-type {\n",
       "        vertical-align: middle;\n",
       "    }\n",
       "\n",
       "    .dataframe tbody tr th {\n",
       "        vertical-align: top;\n",
       "    }\n",
       "\n",
       "    .dataframe thead th {\n",
       "        text-align: right;\n",
       "    }\n",
       "</style>\n",
       "<table border=\"1\" class=\"dataframe\">\n",
       "  <thead>\n",
       "    <tr style=\"text-align: right;\">\n",
       "      <th></th>\n",
       "      <th>User ID</th>\n",
       "      <th>Gender</th>\n",
       "      <th>Age</th>\n",
       "      <th>EstimatedSalary</th>\n",
       "      <th>Purchased</th>\n",
       "    </tr>\n",
       "  </thead>\n",
       "  <tbody>\n",
       "    <tr>\n",
       "      <td>0</td>\n",
       "      <td>15624510</td>\n",
       "      <td>Male</td>\n",
       "      <td>19</td>\n",
       "      <td>19000</td>\n",
       "      <td>0</td>\n",
       "    </tr>\n",
       "    <tr>\n",
       "      <td>1</td>\n",
       "      <td>15810944</td>\n",
       "      <td>Male</td>\n",
       "      <td>35</td>\n",
       "      <td>20000</td>\n",
       "      <td>0</td>\n",
       "    </tr>\n",
       "    <tr>\n",
       "      <td>2</td>\n",
       "      <td>15668575</td>\n",
       "      <td>Female</td>\n",
       "      <td>26</td>\n",
       "      <td>43000</td>\n",
       "      <td>0</td>\n",
       "    </tr>\n",
       "    <tr>\n",
       "      <td>3</td>\n",
       "      <td>15603246</td>\n",
       "      <td>Female</td>\n",
       "      <td>27</td>\n",
       "      <td>57000</td>\n",
       "      <td>0</td>\n",
       "    </tr>\n",
       "    <tr>\n",
       "      <td>4</td>\n",
       "      <td>15804002</td>\n",
       "      <td>Male</td>\n",
       "      <td>19</td>\n",
       "      <td>76000</td>\n",
       "      <td>0</td>\n",
       "    </tr>\n",
       "  </tbody>\n",
       "</table>\n",
       "</div>"
      ],
      "text/plain": [
       "    User ID  Gender  Age  EstimatedSalary  Purchased\n",
       "0  15624510    Male   19            19000          0\n",
       "1  15810944    Male   35            20000          0\n",
       "2  15668575  Female   26            43000          0\n",
       "3  15603246  Female   27            57000          0\n",
       "4  15804002    Male   19            76000          0"
      ]
     },
     "execution_count": 17,
     "metadata": {},
     "output_type": "execute_result"
    }
   ],
   "source": [
    "data=pd.read_csv('Social_Network_Ads.csv')\n",
    "data.head()"
   ]
  },
  {
   "cell_type": "code",
   "execution_count": 18,
   "metadata": {},
   "outputs": [],
   "source": [
    "real_x=data.iloc[:,[2,3]].values\n",
    "real_y=data.iloc[:,4].values"
   ]
  },
  {
   "cell_type": "code",
   "execution_count": 20,
   "metadata": {},
   "outputs": [],
   "source": [
    "training_x,test_x,training_y,test_y=model_selection.train_test_split(real_x,real_y,test_size=0.25,random_state=0)"
   ]
  },
  {
   "cell_type": "code",
   "execution_count": 21,
   "metadata": {},
   "outputs": [
    {
     "data": {
      "text/plain": [
       "array([[-0.54748976,  0.5130727 ],\n",
       "       [ 0.15442019, -0.61825566],\n",
       "       [-0.10879604,  0.14615539],\n",
       "       [-0.54748976,  0.26846116],\n",
       "       [-0.10879604, -0.61825566],\n",
       "       [-0.81070599, -1.53554892],\n",
       "       [-0.45975102, -1.68843113],\n",
       "       [-0.0210573 ,  2.25592989],\n",
       "       [-1.60035469, -0.0678797 ],\n",
       "       [ 0.94406888, -0.83229075],\n",
       "       [-0.54748976, -0.6488321 ],\n",
       "       [-0.72296725, -0.46537345],\n",
       "       [ 0.06668145, -0.46537345],\n",
       "       [ 0.24215893,  0.20730828],\n",
       "       [-1.4248772 ,  0.48249625],\n",
       "       [-0.37201227,  1.43036596],\n",
       "       [ 0.06668145,  0.20730828],\n",
       "       [-1.51261594,  0.45191981],\n",
       "       [ 1.64597884,  1.8278597 ],\n",
       "       [-0.10879604, -1.47439603],\n",
       "       [-0.10879604, -0.70998498],\n",
       "       [ 0.94406888,  2.25592989],\n",
       "       [ 0.41763642, -0.58767922],\n",
       "       [ 0.94406888,  1.06344865],\n",
       "       [-1.16166097, -1.29093738],\n",
       "       [ 1.11954637,  2.16420057],\n",
       "       [-0.72296725,  0.5130727 ],\n",
       "       [-0.63522851,  0.2990376 ],\n",
       "       [ 0.06668145, -0.25133835],\n",
       "       [-0.37201227,  0.48249625],\n",
       "       [-1.33713846,  0.54364914],\n",
       "       [ 0.06668145,  0.26846116],\n",
       "       [ 1.82145632, -0.31249124],\n",
       "       [ 0.06668145, -0.52652633],\n",
       "       [-1.07392223, -0.37364412],\n",
       "       [-1.60035469, -0.55710277],\n",
       "       [-1.24939971,  0.32961404],\n",
       "       [-0.19653479, -0.83229075],\n",
       "       [-0.45975102, -1.10747873],\n",
       "       [ 1.11954637, -1.04632585],\n",
       "       [-0.81070599,  0.54364914],\n",
       "       [ 0.41763642, -0.55710277],\n",
       "       [-0.81070599,  0.42134337],\n",
       "       [-0.10879604, -1.53554892],\n",
       "       [ 0.59311391,  1.27748375],\n",
       "       [-0.81070599, -0.37364412],\n",
       "       [ 0.06668145,  0.2990376 ],\n",
       "       [ 1.3827626 ,  0.60480202],\n",
       "       [-0.89844474, -1.2297845 ],\n",
       "       [ 1.11954637,  0.48249625],\n",
       "       [ 1.82145632,  1.58324817],\n",
       "       [-0.19653479, -1.38266671],\n",
       "       [-0.10879604, -0.40422056],\n",
       "       [-0.19653479,  1.36921307],\n",
       "       [ 1.99693381,  0.54364914],\n",
       "       [ 0.7685914 , -1.16863161],\n",
       "       [-0.63522851,  0.39076693],\n",
       "       [-0.89844474,  0.2990376 ],\n",
       "       [ 1.11954637, -1.29093738],\n",
       "       [-1.16166097, -1.53554892],\n",
       "       [-0.37201227, -1.5967018 ],\n",
       "       [ 2.08467255, -0.86286719],\n",
       "       [-1.51261594,  0.17673183],\n",
       "       [-0.0210573 ,  0.87999   ],\n",
       "       [-1.51261594, -1.35209027],\n",
       "       [ 2.08467255,  0.39076693],\n",
       "       [-1.07392223,  0.57422558],\n",
       "       [-0.81070599, -0.37364412],\n",
       "       [ 0.32989768, -0.70998498],\n",
       "       [ 0.50537516, -0.00672682],\n",
       "       [-0.37201227,  2.43938854],\n",
       "       [-0.10879604,  0.20730828],\n",
       "       [-1.24939971, -0.22076191],\n",
       "       [ 0.7685914 , -1.47439603],\n",
       "       [-0.81070599,  0.57422558],\n",
       "       [-1.60035469,  0.36019049],\n",
       "       [ 0.50537516,  0.26846116],\n",
       "       [ 0.32989768, -0.31249124],\n",
       "       [ 1.47050135, -1.10747873],\n",
       "       [ 0.94406888,  1.12460154],\n",
       "       [ 1.90919507,  2.25592989],\n",
       "       [ 1.99693381,  0.39076693],\n",
       "       [-1.07392223, -0.46537345],\n",
       "       [-0.89844474, -1.07690229],\n",
       "       [ 1.90919507, -0.98517296],\n",
       "       [ 0.50537516,  0.2990376 ],\n",
       "       [ 0.32989768,  0.14615539],\n",
       "       [ 1.99693381,  1.8278597 ],\n",
       "       [ 0.85633014, -0.89344364],\n",
       "       [ 0.41763642, -0.31249124],\n",
       "       [ 0.50537516, -0.19018547],\n",
       "       [ 0.06668145,  2.31708278],\n",
       "       [-1.16166097, -0.67940854],\n",
       "       [-0.98618348, -1.13805517],\n",
       "       [-1.07392223,  0.42134337],\n",
       "       [-0.81070599,  0.78826068],\n",
       "       [-1.16166097, -0.22076191],\n",
       "       [ 1.03180763, -1.13805517],\n",
       "       [ 1.03180763,  0.60480202],\n",
       "       [ 0.50537516,  1.03287221]])"
      ]
     },
     "execution_count": 21,
     "metadata": {},
     "output_type": "execute_result"
    }
   ],
   "source": [
    "s_c=StandardScaler()\n",
    "training_x=s_c.fit_transform(training_x)\n",
    "test_x=s_c.fit_transform(test_x)\n",
    "test_x"
   ]
  },
  {
   "cell_type": "code",
   "execution_count": 4,
   "metadata": {},
   "outputs": [],
   "source": [
    "import sklearn.ensemble as ensemble"
   ]
  },
  {
   "cell_type": "code",
   "execution_count": 5,
   "metadata": {},
   "outputs": [],
   "source": [
    "clf=ensemble.RandomForestClassifier(n_estimators=100,oob_score=True)"
   ]
  },
  {
   "cell_type": "code",
   "execution_count": 26,
   "metadata": {},
   "outputs": [
    {
     "data": {
      "text/plain": [
       "RandomForestClassifier(bootstrap=True, class_weight=None, criterion='gini',\n",
       "                       max_depth=None, max_features='auto', max_leaf_nodes=None,\n",
       "                       min_impurity_decrease=0.0, min_impurity_split=None,\n",
       "                       min_samples_leaf=1, min_samples_split=2,\n",
       "                       min_weight_fraction_leaf=0.0, n_estimators=100,\n",
       "                       n_jobs=-1, oob_score=True, random_state=None, verbose=0,\n",
       "                       warm_start=False)"
      ]
     },
     "execution_count": 26,
     "metadata": {},
     "output_type": "execute_result"
    }
   ],
   "source": [
    "clf.fit(training_x,training_y)"
   ]
  },
  {
   "cell_type": "code",
   "execution_count": 29,
   "metadata": {},
   "outputs": [
    {
     "data": {
      "text/plain": [
       "array([0, 0, 0, 0, 0, 0, 0, 1, 0, 1, 0, 0, 0, 0, 0, 1, 0, 0, 1, 0, 0, 1,\n",
       "       0, 1, 0, 1, 0, 0, 0, 0, 0, 0, 1, 0, 0, 0, 0, 0, 0, 1, 0, 0, 0, 0,\n",
       "       1, 0, 0, 1, 0, 1, 1, 0, 0, 1, 1, 1, 0, 0, 1, 0, 0, 1, 0, 1, 0, 1,\n",
       "       0, 0, 0, 0, 1, 0, 0, 0, 0, 0, 0, 0, 1, 1, 1, 1, 0, 0, 1, 0, 0, 1,\n",
       "       1, 0, 0, 1, 0, 0, 0, 1, 0, 1, 1, 1])"
      ]
     },
     "execution_count": 29,
     "metadata": {},
     "output_type": "execute_result"
    }
   ],
   "source": [
    "pred_y=clf.predict(test_x)\n",
    "pred_y"
   ]
  },
  {
   "cell_type": "code",
   "execution_count": 30,
   "metadata": {},
   "outputs": [
    {
     "data": {
      "text/plain": [
       "array([[0.9 , 0.1 ],\n",
       "       [0.99, 0.01],\n",
       "       [0.97, 0.03],\n",
       "       [1.  , 0.  ],\n",
       "       [0.98, 0.02],\n",
       "       [1.  , 0.  ],\n",
       "       [1.  , 0.  ],\n",
       "       [0.02, 0.98],\n",
       "       [1.  , 0.  ],\n",
       "       [0.1 , 0.9 ],\n",
       "       [1.  , 0.  ],\n",
       "       [1.  , 0.  ],\n",
       "       [1.  , 0.  ],\n",
       "       [0.93, 0.07],\n",
       "       [1.  , 0.  ],\n",
       "       [0.07, 0.93],\n",
       "       [0.62, 0.38],\n",
       "       [1.  , 0.  ],\n",
       "       [0.11, 0.89],\n",
       "       [0.99, 0.01],\n",
       "       [0.98, 0.02],\n",
       "       [0.4 , 0.6 ],\n",
       "       [0.99, 0.01],\n",
       "       [0.07, 0.93],\n",
       "       [1.  , 0.  ],\n",
       "       [0.36, 0.64],\n",
       "       [0.94, 0.06],\n",
       "       [0.96, 0.04],\n",
       "       [1.  , 0.  ],\n",
       "       [0.93, 0.07],\n",
       "       [0.99, 0.01],\n",
       "       [0.91, 0.09],\n",
       "       [0.09, 0.91],\n",
       "       [1.  , 0.  ],\n",
       "       [1.  , 0.  ],\n",
       "       [1.  , 0.  ],\n",
       "       [1.  , 0.  ],\n",
       "       [0.99, 0.01],\n",
       "       [1.  , 0.  ],\n",
       "       [0.02, 0.98],\n",
       "       [0.94, 0.06],\n",
       "       [1.  , 0.  ],\n",
       "       [1.  , 0.  ],\n",
       "       [0.99, 0.01],\n",
       "       [0.25, 0.75],\n",
       "       [1.  , 0.  ],\n",
       "       [0.92, 0.08],\n",
       "       [0.27, 0.73],\n",
       "       [1.  , 0.  ],\n",
       "       [0.16, 0.84],\n",
       "       [0.02, 0.98],\n",
       "       [0.99, 0.01],\n",
       "       [0.98, 0.02],\n",
       "       [0.07, 0.93],\n",
       "       [0.  , 1.  ],\n",
       "       [0.03, 0.97],\n",
       "       [0.96, 0.04],\n",
       "       [1.  , 0.  ],\n",
       "       [0.02, 0.98],\n",
       "       [1.  , 0.  ],\n",
       "       [0.99, 0.01],\n",
       "       [0.22, 0.78],\n",
       "       [1.  , 0.  ],\n",
       "       [0.16, 0.84],\n",
       "       [1.  , 0.  ],\n",
       "       [0.1 , 0.9 ],\n",
       "       [0.99, 0.01],\n",
       "       [1.  , 0.  ],\n",
       "       [0.99, 0.01],\n",
       "       [0.66, 0.34],\n",
       "       [0.01, 0.99],\n",
       "       [0.52, 0.48],\n",
       "       [1.  , 0.  ],\n",
       "       [0.6 , 0.4 ],\n",
       "       [0.94, 0.06],\n",
       "       [1.  , 0.  ],\n",
       "       [0.87, 0.13],\n",
       "       [1.  , 0.  ],\n",
       "       [0.02, 0.98],\n",
       "       [0.06, 0.94],\n",
       "       [0.01, 0.99],\n",
       "       [0.02, 0.98],\n",
       "       [1.  , 0.  ],\n",
       "       [1.  , 0.  ],\n",
       "       [0.01, 0.99],\n",
       "       [0.88, 0.12],\n",
       "       [0.91, 0.09],\n",
       "       [0.11, 0.89],\n",
       "       [0.13, 0.87],\n",
       "       [1.  , 0.  ],\n",
       "       [0.95, 0.05],\n",
       "       [0.  , 1.  ],\n",
       "       [1.  , 0.  ],\n",
       "       [0.98, 0.02],\n",
       "       [1.  , 0.  ],\n",
       "       [0.23, 0.77],\n",
       "       [1.  , 0.  ],\n",
       "       [0.02, 0.98],\n",
       "       [0.04, 0.96],\n",
       "       [0.2 , 0.8 ]])"
      ]
     },
     "execution_count": 30,
     "metadata": {},
     "output_type": "execute_result"
    }
   ],
   "source": [
    "clf.predict_proba(test_x)"
   ]
  },
  {
   "cell_type": "code",
   "execution_count": 31,
   "metadata": {},
   "outputs": [],
   "source": [
    "from sklearn.metrics import confusion_matrix"
   ]
  },
  {
   "cell_type": "code",
   "execution_count": 33,
   "metadata": {},
   "outputs": [
    {
     "data": {
      "text/plain": [
       "array([[64,  4],\n",
       "       [ 3, 29]])"
      ]
     },
     "execution_count": 33,
     "metadata": {},
     "output_type": "execute_result"
    }
   ],
   "source": [
    "c_m=confusion_matrix(test_y,pred_y)\n",
    "c_m"
   ]
  },
  {
   "cell_type": "code",
   "execution_count": 1,
   "metadata": {},
   "outputs": [
    {
     "ename": "NameError",
     "evalue": "name 'pd' is not defined",
     "output_type": "error",
     "traceback": [
      "\u001b[0;31m---------------------------------------------------------------------------\u001b[0m",
      "\u001b[0;31mNameError\u001b[0m                                 Traceback (most recent call last)",
      "\u001b[0;32m<ipython-input-1-09a133730ec9>\u001b[0m in \u001b[0;36m<module>\u001b[0;34m\u001b[0m\n\u001b[0;32m----> 1\u001b[0;31m \u001b[0mpd\u001b[0m\u001b[0;34m.\u001b[0m\u001b[0mSeries\u001b[0m\u001b[0;34m(\u001b[0m\u001b[0mclf\u001b[0m\u001b[0;34m.\u001b[0m\u001b[0mfeature_importances_\u001b[0m\u001b[0;34m,\u001b[0m\u001b[0mindex\u001b[0m\u001b[0;34m=\u001b[0m\u001b[0mtraining_x\u001b[0m\u001b[0;34m.\u001b[0m\u001b[0mcolumns\u001b[0m\u001b[0;34m)\u001b[0m\u001b[0;34m.\u001b[0m\u001b[0msort_values\u001b[0m\u001b[0;34m(\u001b[0m\u001b[0mascending\u001b[0m\u001b[0;34m=\u001b[0m\u001b[0;32mFalse\u001b[0m\u001b[0;34m)\u001b[0m\u001b[0;34m\u001b[0m\u001b[0m\n\u001b[0m",
      "\u001b[0;31mNameError\u001b[0m: name 'pd' is not defined"
     ]
    }
   ],
   "source": [
    "pd.Series(clf.feature_importances_,index=training_x.columns).sort_values(ascending=False)"
   ]
  },
  {
   "cell_type": "code",
   "execution_count": 49,
   "metadata": {},
   "outputs": [
    {
     "data": {
      "text/plain": [
       "0.87"
      ]
     },
     "execution_count": 49,
     "metadata": {},
     "output_type": "execute_result"
    }
   ],
   "source": [
    "clf.oob_score_"
   ]
  },
  {
   "cell_type": "code",
   "execution_count": 85,
   "metadata": {},
   "outputs": [
    {
     "name": "stdout",
     "output_type": "stream",
     "text": [
      "oob score for 100 tree is 0.88\n",
      "oob score for 200 tree is 0.8933333333333333\n",
      "oob score for 300 tree is 0.88\n"
     ]
    }
   ],
   "source": [
    "for i in [100,200,300]:\n",
    "    clf=ensemble.RandomForestClassifier(n_estimators=i,oob_score=True,n_jobs=-1)\n",
    "    clf.fit(training_x,training_y)\n",
    "    print(\"oob score for {} tree is {}\".format(i,clf.oob_score_))"
   ]
  },
  {
   "cell_type": "code",
   "execution_count": 86,
   "metadata": {},
   "outputs": [],
   "source": []
  },
  {
   "cell_type": "code",
   "execution_count": 2,
   "metadata": {},
   "outputs": [],
   "source": [
    "import sklearn.metrics as metrics"
   ]
  },
  {
   "cell_type": "code",
   "execution_count": 3,
   "metadata": {},
   "outputs": [
    {
     "ename": "NameError",
     "evalue": "name 'test_y' is not defined",
     "output_type": "error",
     "traceback": [
      "\u001b[0;31m---------------------------------------------------------------------------\u001b[0m",
      "\u001b[0;31mNameError\u001b[0m                                 Traceback (most recent call last)",
      "\u001b[0;32m<ipython-input-3-2c1dda853e63>\u001b[0m in \u001b[0;36m<module>\u001b[0;34m\u001b[0m\n\u001b[0;32m----> 1\u001b[0;31m \u001b[0mmetrics\u001b[0m\u001b[0;34m.\u001b[0m\u001b[0mroc_auc_score\u001b[0m\u001b[0;34m(\u001b[0m\u001b[0mtest_y\u001b[0m\u001b[0;34m,\u001b[0m\u001b[0mpred_y\u001b[0m\u001b[0;34m)\u001b[0m\u001b[0;34m\u001b[0m\u001b[0m\n\u001b[0m",
      "\u001b[0;31mNameError\u001b[0m: name 'test_y' is not defined"
     ]
    }
   ],
   "source": [
    "metrics.roc_auc_score(test_y,pred_y)"
   ]
  },
  {
   "cell_type": "code",
   "execution_count": 4,
   "metadata": {},
   "outputs": [
    {
     "ename": "NameError",
     "evalue": "name 'ensemble' is not defined",
     "output_type": "error",
     "traceback": [
      "\u001b[0;31m---------------------------------------------------------------------------\u001b[0m",
      "\u001b[0;31mNameError\u001b[0m                                 Traceback (most recent call last)",
      "\u001b[0;32m<ipython-input-4-deeb3a194d55>\u001b[0m in \u001b[0;36m<module>\u001b[0;34m\u001b[0m\n\u001b[1;32m      1\u001b[0m \u001b[0;32mfor\u001b[0m \u001b[0mi\u001b[0m \u001b[0;32min\u001b[0m \u001b[0;34m[\u001b[0m\u001b[0;36m100\u001b[0m\u001b[0;34m,\u001b[0m\u001b[0;36m200\u001b[0m\u001b[0;34m,\u001b[0m\u001b[0;36m300\u001b[0m\u001b[0;34m]\u001b[0m\u001b[0;34m:\u001b[0m\u001b[0;34m\u001b[0m\u001b[0m\n\u001b[0;32m----> 2\u001b[0;31m     \u001b[0mclf\u001b[0m\u001b[0;34m=\u001b[0m\u001b[0mensemble\u001b[0m\u001b[0;34m.\u001b[0m\u001b[0mRandomForestClassifier\u001b[0m\u001b[0;34m(\u001b[0m\u001b[0mn_estimators\u001b[0m\u001b[0;34m=\u001b[0m\u001b[0mi\u001b[0m\u001b[0;34m,\u001b[0m\u001b[0moob_score\u001b[0m\u001b[0;34m=\u001b[0m\u001b[0;32mTrue\u001b[0m\u001b[0;34m,\u001b[0m\u001b[0mn_jobs\u001b[0m\u001b[0;34m=\u001b[0m\u001b[0;34m-\u001b[0m\u001b[0;36m1\u001b[0m\u001b[0;34m)\u001b[0m\u001b[0;34m\u001b[0m\u001b[0m\n\u001b[0m\u001b[1;32m      3\u001b[0m     \u001b[0mclf\u001b[0m\u001b[0;34m.\u001b[0m\u001b[0mfit\u001b[0m\u001b[0;34m(\u001b[0m\u001b[0mtraining_x\u001b[0m\u001b[0;34m,\u001b[0m\u001b[0mtraining_y\u001b[0m\u001b[0;34m)\u001b[0m\u001b[0;34m\u001b[0m\u001b[0m\n\u001b[1;32m      4\u001b[0m     \u001b[0mauc\u001b[0m\u001b[0;34m=\u001b[0m\u001b[0mmetrics\u001b[0m\u001b[0;34m.\u001b[0m\u001b[0mroc_auc_score\u001b[0m\u001b[0;34m(\u001b[0m\u001b[0mtest_y\u001b[0m\u001b[0;34m,\u001b[0m\u001b[0mpred_y\u001b[0m\u001b[0;34m)\u001b[0m\u001b[0;34m\u001b[0m\u001b[0m\n\u001b[1;32m      5\u001b[0m     \u001b[0mprint\u001b[0m\u001b[0;34m(\u001b[0m\u001b[0;34m\"auc score for {} tree is {}\"\u001b[0m\u001b[0;34m.\u001b[0m\u001b[0mformat\u001b[0m\u001b[0;34m(\u001b[0m\u001b[0mi\u001b[0m\u001b[0;34m,\u001b[0m\u001b[0mauc\u001b[0m\u001b[0;34m)\u001b[0m\u001b[0;34m)\u001b[0m\u001b[0;34m\u001b[0m\u001b[0m\n",
      "\u001b[0;31mNameError\u001b[0m: name 'ensemble' is not defined"
     ]
    }
   ],
   "source": [
    "for i in [100,200,300]:\n",
    "    clf=ensemble.RandomForestClassifier(n_estimators=i,oob_score=True,n_jobs=-1)\n",
    "    clf.fit(training_x,training_y)\n",
    "    pred_oob=clf.oob_decision_function_[:,1]\n",
    "    auc=metrics.roc_auc_score(test_y,pred_y)\n",
    "    print(\"auc score for {} tree is {}\".format(i,auc))"
   ]
  },
  {
   "cell_type": "code",
   "execution_count": 90,
   "metadata": {},
   "outputs": [],
   "source": [
    "result=pd.DataFrame({'actual':test_y,'predicted':pred_y})"
   ]
  },
  {
   "cell_type": "code",
   "execution_count": 92,
   "metadata": {},
   "outputs": [
    {
     "data": {
      "text/html": [
       "<div>\n",
       "<style scoped>\n",
       "    .dataframe tbody tr th:only-of-type {\n",
       "        vertical-align: middle;\n",
       "    }\n",
       "\n",
       "    .dataframe tbody tr th {\n",
       "        vertical-align: top;\n",
       "    }\n",
       "\n",
       "    .dataframe thead th {\n",
       "        text-align: right;\n",
       "    }\n",
       "</style>\n",
       "<table border=\"1\" class=\"dataframe\">\n",
       "  <thead>\n",
       "    <tr style=\"text-align: right;\">\n",
       "      <th></th>\n",
       "      <th>actual</th>\n",
       "      <th>predicted</th>\n",
       "    </tr>\n",
       "  </thead>\n",
       "  <tbody>\n",
       "    <tr>\n",
       "      <td>0</td>\n",
       "      <td>0</td>\n",
       "      <td>0</td>\n",
       "    </tr>\n",
       "    <tr>\n",
       "      <td>1</td>\n",
       "      <td>0</td>\n",
       "      <td>0</td>\n",
       "    </tr>\n",
       "    <tr>\n",
       "      <td>2</td>\n",
       "      <td>0</td>\n",
       "      <td>0</td>\n",
       "    </tr>\n",
       "    <tr>\n",
       "      <td>3</td>\n",
       "      <td>0</td>\n",
       "      <td>0</td>\n",
       "    </tr>\n",
       "    <tr>\n",
       "      <td>4</td>\n",
       "      <td>0</td>\n",
       "      <td>0</td>\n",
       "    </tr>\n",
       "    <tr>\n",
       "      <td>5</td>\n",
       "      <td>0</td>\n",
       "      <td>0</td>\n",
       "    </tr>\n",
       "    <tr>\n",
       "      <td>6</td>\n",
       "      <td>0</td>\n",
       "      <td>0</td>\n",
       "    </tr>\n",
       "    <tr>\n",
       "      <td>7</td>\n",
       "      <td>1</td>\n",
       "      <td>1</td>\n",
       "    </tr>\n",
       "    <tr>\n",
       "      <td>8</td>\n",
       "      <td>0</td>\n",
       "      <td>0</td>\n",
       "    </tr>\n",
       "    <tr>\n",
       "      <td>9</td>\n",
       "      <td>0</td>\n",
       "      <td>1</td>\n",
       "    </tr>\n",
       "  </tbody>\n",
       "</table>\n",
       "</div>"
      ],
      "text/plain": [
       "   actual  predicted\n",
       "0       0          0\n",
       "1       0          0\n",
       "2       0          0\n",
       "3       0          0\n",
       "4       0          0\n",
       "5       0          0\n",
       "6       0          0\n",
       "7       1          1\n",
       "8       0          0\n",
       "9       0          1"
      ]
     },
     "execution_count": 92,
     "metadata": {},
     "output_type": "execute_result"
    }
   ],
   "source": [
    "result.head(10)"
   ]
  },
  {
   "cell_type": "code",
   "execution_count": null,
   "metadata": {},
   "outputs": [],
   "source": []
  },
  {
   "cell_type": "code",
   "execution_count": null,
   "metadata": {},
   "outputs": [],
   "source": []
  },
  {
   "cell_type": "code",
   "execution_count": null,
   "metadata": {},
   "outputs": [],
   "source": []
  }
 ],
 "metadata": {
  "kernelspec": {
   "display_name": "Python 3",
   "language": "python",
   "name": "python3"
  },
  "language_info": {
   "codemirror_mode": {
    "name": "ipython",
    "version": 3
   },
   "file_extension": ".py",
   "mimetype": "text/x-python",
   "name": "python",
   "nbconvert_exporter": "python",
   "pygments_lexer": "ipython3",
   "version": "3.7.0"
  }
 },
 "nbformat": 4,
 "nbformat_minor": 2
}
